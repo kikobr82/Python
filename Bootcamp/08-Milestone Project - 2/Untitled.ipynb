{
 "cells": [
  {
   "cell_type": "code",
   "execution_count": 1,
   "metadata": {},
   "outputs": [],
   "source": [
    "suits = ('Hearts', 'Diamonds', 'Spades', 'Clubs')\n",
    "ranks = ('Two', 'Three', 'Four', 'Five', 'Six', 'Seven', 'Eight', 'Nine', 'Ten', 'Jack', 'Queen', 'King', 'Ace')"
   ]
  },
  {
   "cell_type": "code",
   "execution_count": 3,
   "metadata": {},
   "outputs": [],
   "source": [
    "deck = []\n",
    "for suit in suits:\n",
    "    for rank in ranks:\n",
    "        card = (suit,rank)\n",
    "        deck.append(card)"
   ]
  },
  {
   "cell_type": "code",
   "execution_count": 4,
   "metadata": {},
   "outputs": [
    {
     "name": "stdout",
     "output_type": "stream",
     "text": [
      "[('Hearts', 'Two'), ('Hearts', 'Three'), ('Hearts', 'Four'), ('Hearts', 'Five'), ('Hearts', 'Six'), ('Hearts', 'Seven'), ('Hearts', 'Eight'), ('Hearts', 'Nine'), ('Hearts', 'Ten'), ('Hearts', 'Jack'), ('Hearts', 'Queen'), ('Hearts', 'King'), ('Hearts', 'Ace'), ('Diamonds', 'Two'), ('Diamonds', 'Three'), ('Diamonds', 'Four'), ('Diamonds', 'Five'), ('Diamonds', 'Six'), ('Diamonds', 'Seven'), ('Diamonds', 'Eight'), ('Diamonds', 'Nine'), ('Diamonds', 'Ten'), ('Diamonds', 'Jack'), ('Diamonds', 'Queen'), ('Diamonds', 'King'), ('Diamonds', 'Ace'), ('Spades', 'Two'), ('Spades', 'Three'), ('Spades', 'Four'), ('Spades', 'Five'), ('Spades', 'Six'), ('Spades', 'Seven'), ('Spades', 'Eight'), ('Spades', 'Nine'), ('Spades', 'Ten'), ('Spades', 'Jack'), ('Spades', 'Queen'), ('Spades', 'King'), ('Spades', 'Ace'), ('Clubs', 'Two'), ('Clubs', 'Three'), ('Clubs', 'Four'), ('Clubs', 'Five'), ('Clubs', 'Six'), ('Clubs', 'Seven'), ('Clubs', 'Eight'), ('Clubs', 'Nine'), ('Clubs', 'Ten'), ('Clubs', 'Jack'), ('Clubs', 'Queen'), ('Clubs', 'King'), ('Clubs', 'Ace')]\n"
     ]
    }
   ],
   "source": [
    "print(deck)"
   ]
  },
  {
   "cell_type": "code",
   "execution_count": null,
   "metadata": {},
   "outputs": [],
   "source": []
  }
 ],
 "metadata": {
  "kernelspec": {
   "display_name": "Python 3",
   "language": "python",
   "name": "python3"
  },
  "language_info": {
   "codemirror_mode": {
    "name": "ipython",
    "version": 3
   },
   "file_extension": ".py",
   "mimetype": "text/x-python",
   "name": "python",
   "nbconvert_exporter": "python",
   "pygments_lexer": "ipython3",
   "version": "3.6.4"
  }
 },
 "nbformat": 4,
 "nbformat_minor": 2
}
